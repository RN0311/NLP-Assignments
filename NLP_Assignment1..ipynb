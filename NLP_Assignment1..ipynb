{
 "cells": [
  {
   "cell_type": "code",
   "execution_count": 5,
   "metadata": {
    "collapsed": true
   },
   "outputs": [],
   "source": [
    "#To count the number of words and paragraphs as well as sentences from the corpus.\n",
    "import numpy as np\n",
    "from nltk.tokenize import RegexpTokenizer\n",
    "import re\n",
    "import matplotlib.pyplot as plt\n",
    "cnt_words = 0\n",
    "cnt_paragraphs = 0\n",
    "cnt_sentences = 0\n",
    "def preprocess(filename):\n",
    "    cnt_words = 0\n",
    "    cnt_paragraphs = 0\n",
    "    cnt_sentences = 0\n",
    "    extensions = ['?','.','.)','!','.\"']\n",
    "    with open(filename) as f:\n",
    "            for data in f:\n",
    "                if(data == \"\\n\"):\n",
    "                    cnt_paragraphs+=1\n",
    "                for words in data.split():\n",
    "                    if(not(re.match(r'[^\\w]+$',words))):\n",
    "                        cnt_words+=1\n",
    "                    if((words.endswith(tuple(extensions))) and (not(re.findall(r'[A-Za-z][.][A-Za-z][.][A-Za-z][.]*',words) or re.findall(r'^\"?[A-Za-z]{2,3}\\.$',words)))):\n",
    "                        cnt_sentences+=1\n",
    "    return cnt_paragraphs, cnt_words, cnt_sentences"
   ]
  },
  {
   "cell_type": "code",
   "execution_count": 2,
   "metadata": {},
   "outputs": [
    {
     "data": {
      "text/plain": [
       "(62, 7609, 272)"
      ]
     },
     "execution_count": 2,
     "metadata": {},
     "output_type": "execute_result"
    }
   ],
   "source": [
    "#Results on Testing Dataset.\n",
    "preprocess('test.txt')"
   ]
  },
  {
   "cell_type": "code",
   "execution_count": 6,
   "metadata": {},
   "outputs": [
    {
     "data": {
      "text/plain": [
       "(8, 646, 21)"
      ]
     },
     "execution_count": 6,
     "metadata": {},
     "output_type": "execute_result"
    }
   ],
   "source": [
    "#Results on Development Dataset.\n",
    "preprocess('Development Set.txt')"
   ]
  },
  {
   "cell_type": "code",
   "execution_count": null,
   "metadata": {
    "collapsed": true
   },
   "outputs": [],
   "source": []
  }
 ],
 "metadata": {
  "kernelspec": {
   "display_name": "Python 3",
   "language": "python",
   "name": "python3"
  },
  "language_info": {
   "codemirror_mode": {
    "name": "ipython",
    "version": 3
   },
   "file_extension": ".py",
   "mimetype": "text/x-python",
   "name": "python",
   "nbconvert_exporter": "python",
   "pygments_lexer": "ipython3",
   "version": "3.6.1"
  }
 },
 "nbformat": 4,
 "nbformat_minor": 2
}
