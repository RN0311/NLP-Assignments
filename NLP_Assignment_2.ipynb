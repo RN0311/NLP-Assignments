{
 "cells": [
  {
   "cell_type": "code",
   "execution_count": 30,
   "metadata": {
    "collapsed": true
   },
   "outputs": [],
   "source": [
    "def edit_dist(str1,str2):\n",
    "    len1 = len(str1)+1\n",
    "    \n",
    "    len2 = len(str2)+1\n",
    "    #Initialization Process.\n",
    "    dist_mat = [[0]*(len2) for d in range(len1)]\n",
    "    str_mat = [[\"\"]*(len2) for d in range(len1)]\n",
    "    for i in range(len1):\n",
    "        dist_mat[i][0] = i\n",
    "    for i in range(1,len1):\n",
    "        str_mat[i][0] = 'D'\n",
    "    for j in range(1,len2):\n",
    "        str_mat[0][j] = 'I'\n",
    "    for j in range(len2):\n",
    "        dist_mat[0][j] = j\n",
    "        \n",
    "    cost_func = 0\n",
    "    #Finding the edit distance(dist_mat[][]) and alignment(str_mat[][]).\n",
    "    for i in range(1,len1):\n",
    "        for j in range(1,len2):\n",
    "            if str1[i-1] == str2[j-1]:\n",
    "                dist_mat[i][j] = dist_mat[i-1][j-1]\n",
    "                str_mat[i][j] = str_mat[i-1][j-1] + \"-\"\n",
    "            if(str1[i-1] != str2[j-1]):\n",
    "                cost_func = 2\n",
    "                dist_mat[i][j] = min(dist_mat[i-1][j-1]+cost_func, dist_mat[i-1][j]+1, dist_mat[i][j-1]+1)\n",
    "            if dist_mat[i][j] == dist_mat[i-1][j-1]+cost_func:\n",
    "                str_mat[i][j] = str_mat[i-1][j-1] + \"S\"\n",
    "            elif dist_mat[i][j] == dist_mat[i-1][j]:\n",
    "                str_mat[i][j] = str_mat[i-1][j] + \"D\"\n",
    "            else:\n",
    "                str_mat[i][j] = str_mat[i][j-1] + \"I\"\n",
    "    for i in range(1,len1):\n",
    "        print(dist_mat[i])\n",
    "        \n",
    "    print(\"Minimum distance between two strings are\",dist_mat[len1-1][len2-1])\n",
    "    \n",
    "    print(\"Operations done are\",str_mat[len1-1][len2-1])\n",
    "    \n",
    "    ops = list(str_mat[len1-1][len2-1])\n",
    "\n",
    "    sups1 = list(str1)\n",
    "\n",
    "    sups2 = list(str2)\n",
    "    for j in range(0,len(ops)):\n",
    "        if ops[j] == 'D':\n",
    "            sups2.insert(j,'*')\n",
    "        if ops[j] == 'I':\n",
    "            sups1.insert(j,'*')\n",
    "        if ops[j] == '-':\n",
    "            continue\n",
    "        if ops[j] == 'S':\n",
    "            continue\n",
    "    print(sups1,sups2)\n",
    "    for i in range(1,len1):\n",
    "        print(sups1[i],'--',sups2[i],' ')"
   ]
  },
  {
   "cell_type": "code",
   "execution_count": 31,
   "metadata": {},
   "outputs": [
    {
     "name": "stdout",
     "output_type": "stream",
     "text": [
      "[1, 2, 3, 4, 5, 6, 7, 6, 7, 8]\n",
      "[2, 3, 4, 5, 6, 7, 8, 7, 8, 7]\n",
      "[3, 4, 5, 6, 7, 8, 7, 8, 9, 8]\n",
      "[4, 3, 4, 5, 6, 7, 8, 9, 10, 9]\n",
      "[5, 4, 5, 6, 7, 8, 9, 10, 11, 10]\n",
      "[6, 5, 6, 7, 8, 9, 8, 9, 10, 11]\n",
      "[7, 6, 7, 8, 9, 10, 9, 8, 9, 10]\n",
      "[8, 7, 8, 9, 10, 11, 10, 9, 8, 9]\n",
      "[9, 8, 9, 10, 11, 12, 11, 10, 9, 8]\n",
      "Minimum distance between two strings are 8\n",
      "Operations done are DISSSSIIII\n",
      "['I', '*', 'N', 'T', 'E', 'N', '*', '*', '*', '*', 'T', 'I', 'O', 'N'] ['*', 'E', 'X', 'E', 'C', 'U', 'T', 'I', 'O', 'N']\n",
      "* -- E  \n",
      "N -- X  \n",
      "T -- E  \n",
      "E -- C  \n",
      "N -- U  \n",
      "* -- T  \n",
      "* -- I  \n",
      "* -- O  \n",
      "* -- N  \n"
     ]
    }
   ],
   "source": [
    "edit_dist(\"INTENTION\",\"EXECUTION\")"
   ]
  },
  {
   "cell_type": "code",
   "execution_count": 23,
   "metadata": {},
   "outputs": [
    {
     "name": "stdout",
     "output_type": "stream",
     "text": [
      "[1, 0, 1, 2, 3]\n",
      "[2, 1, 0, 1, 2]\n",
      "[3, 2, 1, 0, 1]\n",
      "[4, 3, 2, 1, 0]\n",
      "[5, 4, 3, 2, 1]\n",
      "Minimum distance between two strings are 1\n",
      "Operations done are DIIII\n",
      "['g', '*', '*', '*', '*', 'e', 'e', 'k', 's'] ['*', 'g', 'e', 'e', 'k']\n"
     ]
    }
   ],
   "source": [
    "edit_dist(\"geeks\",\"geek\")"
   ]
  },
  {
   "cell_type": "code",
   "execution_count": 19,
   "metadata": {},
   "outputs": [
    {
     "name": "stdout",
     "output_type": "stream",
     "text": [
      "[1, 0, 1, 2, 3, 4]\n",
      "[2, 1, 0, 1, 2, 3]\n",
      "[3, 2, 1, 0, 1, 2]\n",
      "[4, 3, 2, 1, 0, 1]\n",
      "[5, 4, 3, 2, 1, 0]\n",
      "Minimum distance between two strings are 0\n",
      "Operations done are DIIIII\n",
      "['g', '*', '*', '*', '*', '*', 'e', 'e', 'k', 's'] ['*', 'g', 'e', 'e', 'k', 's']\n",
      "* -- g  \n",
      "* -- e  \n",
      "* -- e  \n",
      "* -- k  \n",
      "* -- s  \n"
     ]
    }
   ],
   "source": [
    "edit_dist(\"geeks\",\"geeks\")"
   ]
  },
  {
   "cell_type": "code",
   "execution_count": 30,
   "metadata": {},
   "outputs": [
    {
     "name": "stdout",
     "output_type": "stream",
     "text": [
      "[1, 0, 1, 2]\n",
      "[2, 1, 2, 3]\n",
      "[3, 2, 3, 4]\n",
      "Minimum distance between two strings are 4\n",
      "Operations done are SSS\n",
      "['b', 'o', 'o', 'k'] ['b', 'a', 'c', 'k']\n",
      "b -- b  \n",
      "o -- a  \n",
      "o -- c  \n",
      "k -- k  \n"
     ]
    }
   ],
   "source": [
    "edit_dist(\"book\",\"back\")"
   ]
  },
  {
   "cell_type": "code",
   "execution_count": 24,
   "metadata": {},
   "outputs": [
    {
     "name": "stdout",
     "output_type": "stream",
     "text": [
      "[1, 0, 1, 2, 3, 4, 5]\n",
      "[2, 1, 0, 1, 2, 3, 4]\n",
      "[3, 2, 1, 0, 1, 2, 3]\n",
      "[4, 3, 2, 1, 2, 3, 4]\n",
      "[5, 4, 3, 2, 1, 2, 3]\n",
      "[6, 5, 4, 3, 2, 1, 2]\n",
      "[7, 6, 5, 4, 3, 2, 1]\n",
      "Minimum distance between two strings are 1\n",
      "Operations done are DIIIIII\n",
      "['h', '*', '*', '*', '*', '*', '*', 'o', 'r', 'i', 'z', 'o', 'n'] ['*', 'h', 'o', 'r', 'z', 'o', 'n']\n"
     ]
    }
   ],
   "source": [
    "edit_dist(\"horizon\",\"horzon\")"
   ]
  },
  {
   "cell_type": "code",
   "execution_count": 25,
   "metadata": {},
   "outputs": [
    {
     "name": "stdout",
     "output_type": "stream",
     "text": [
      "[1, 0, 1, 2, 3, 4, 5, 6, 7, 8, 9]\n",
      "[2, 1, 0, 1, 2, 3, 4, 5, 6, 7, 8]\n",
      "[3, 2, 1, 0, 1, 2, 3, 4, 5, 6, 7]\n",
      "[4, 3, 2, 1, 0, 1, 2, 3, 4, 5, 6]\n",
      "[5, 4, 3, 2, 1, 0, 1, 2, 3, 4, 5]\n",
      "[6, 5, 4, 3, 2, 1, 0, 1, 2, 3, 4]\n",
      "[7, 6, 5, 4, 3, 2, 1, 0, 1, 2, 3]\n",
      "Minimum distance between two strings are 3\n",
      "Operations done are DIIIIIIIIII\n",
      "['h', '*', '*', '*', '*', '*', '*', '*', '*', '*', '*', 'o', 'r', 'i', 'z', 'o', 'n'] ['*', 'h', 'o', 'r', 'i', 'z', 'o', 'n', 't', 'a', 'l']\n"
     ]
    }
   ],
   "source": [
    "edit_dist(\"horizon\",\"horizontal\")"
   ]
  },
  {
   "cell_type": "code",
   "execution_count": 26,
   "metadata": {},
   "outputs": [
    {
     "name": "stdout",
     "output_type": "stream",
     "text": [
      "[1, 2, 3, 4, 5]\n",
      "[2, 3, 4, 5, 6]\n",
      "[3, 4, 5, 6, 7]\n",
      "[4, 5, 6, 7, 8]\n",
      "[5, 6, 7, 8, 9]\n",
      "Minimum distance between two strings are 9\n",
      "Operations done are DSSSS\n",
      "['m', 'a', 'n', \"'\", 's'] ['*', 'k', 'i', 'l', 'l']\n"
     ]
    }
   ],
   "source": [
    "edit_dist(\"man's\",\"kill\")"
   ]
  },
  {
   "cell_type": "code",
   "execution_count": 27,
   "metadata": {},
   "outputs": [
    {
     "name": "stdout",
     "output_type": "stream",
     "text": [
      "[1, 0, 1, 2]\n",
      "[2, 1, 2, 3]\n",
      "[3, 2, 3, 4]\n",
      "[4, 3, 4, 5]\n",
      "Minimum distance between two strings are 5\n",
      "Operations done are DISS\n",
      "['b', '*', 'o', 'o', 'k'] ['*', 'b', 'a', 'c']\n"
     ]
    }
   ],
   "source": [
    "edit_dist(\"book\",\"bac\")"
   ]
  },
  {
   "cell_type": "code",
   "execution_count": 28,
   "metadata": {},
   "outputs": [
    {
     "name": "stdout",
     "output_type": "stream",
     "text": [
      "[1, 0, 1, 2, 3]\n",
      "[2, 1, 0, 1, 2]\n",
      "Minimum distance between two strings are 2\n",
      "Operations done are DIIII\n",
      "['b', '*', '*', '*', '*', 'o'] ['*', 'b', 'o', 'o', 'k']\n"
     ]
    }
   ],
   "source": [
    "edit_dist(\"bo\",\"book\")"
   ]
  },
  {
   "cell_type": "code",
   "execution_count": 29,
   "metadata": {},
   "outputs": [
    {
     "name": "stdout",
     "output_type": "stream",
     "text": [
      "[1, 2, 3, 4, 5]\n",
      "[2, 3, 4, 5, 6]\n",
      "Minimum distance between two strings are 6\n",
      "Operations done are ISS\n",
      "['*', 'b', 'o'] ['k', 'i', 'l', 'l']\n"
     ]
    }
   ],
   "source": [
    "edit_dist(\"bo\",\"kill\")"
   ]
  },
  {
   "cell_type": "code",
   "execution_count": null,
   "metadata": {
    "collapsed": true
   },
   "outputs": [],
   "source": []
  }
 ],
 "metadata": {
  "kernelspec": {
   "display_name": "Python 3",
   "language": "python",
   "name": "python3"
  },
  "language_info": {
   "codemirror_mode": {
    "name": "ipython",
    "version": 3
   },
   "file_extension": ".py",
   "mimetype": "text/x-python",
   "name": "python",
   "nbconvert_exporter": "python",
   "pygments_lexer": "ipython3",
   "version": "3.6.1"
  }
 },
 "nbformat": 4,
 "nbformat_minor": 2
}
